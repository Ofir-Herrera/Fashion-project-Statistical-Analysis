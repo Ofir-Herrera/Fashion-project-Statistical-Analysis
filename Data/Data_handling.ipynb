{
 "cells": [
  {
   "cell_type": "code",
   "execution_count": 112,
   "metadata": {},
   "outputs": [],
   "source": [
    "import glob\n",
    "import pandas as pd\n",
    "from sklearn import preprocessing"
   ]
  },
  {
   "cell_type": "code",
   "execution_count": 113,
   "metadata": {},
   "outputs": [],
   "source": [
    "def merge_data_frames():\n",
    "    extension = 'csv'\n",
    "    all_filenames = [i for i in glob.glob('*.{}'.format(extension))]\n",
    "    #combine all files in the list\n",
    "    combined_csv = pd.concat([pd.read_csv(f) for f in all_filenames ])\n",
    "    #export to csv\n",
    "    combined_csv.to_csv( \"combined_csv.csv\", index=False, encoding='utf-8-sig')\n",
    "    "
   ]
  },
  {
   "cell_type": "code",
   "execution_count": 114,
   "metadata": {},
   "outputs": [
    {
     "name": "stdout",
     "output_type": "stream",
     "text": [
      "(15792, 57)\n"
     ]
    },
    {
     "data": {
      "text/plain": [
       "(15166, 57)"
      ]
     },
     "execution_count": 114,
     "metadata": {},
     "output_type": "execute_result"
    }
   ],
   "source": [
    "# merge_data_frames()\n",
    "df=pd.read_csv(\"combined_csv.csv\",index_col=0)\n",
    "print(df.shape)\n",
    "copy=df.drop_duplicates(keep='first',ignore_index=False).copy()\n",
    "copy.shape"
   ]
  },
  {
   "cell_type": "code",
   "execution_count": 115,
   "metadata": {},
   "outputs": [],
   "source": [
    "# def fill_empty_values(df):\n",
    "#     df.fillna(\"Empty\", inplace=True)\n",
    "# fill_empty_values(copy)\n"
   ]
  },
  {
   "cell_type": "code",
   "execution_count": 116,
   "metadata": {},
   "outputs": [],
   "source": [
    "def divide_details_col():\n",
    "    dictionary = {}\n",
    "    sorted_dict = {}\n",
    "    list1 = []\n",
    "\n",
    "    for i in copy['Details']:\n",
    "        if isinstance(i, str):\n",
    "            for j in i.split(', '):\n",
    "                if j not in dictionary:\n",
    "                    dictionary[j] = 1\n",
    "                else:\n",
    "                    dictionary[j] += 1\n",
    "\n",
    "    sorted_keys = sorted(dictionary, key=dictionary.get, reverse=True)\n",
    "\n",
    "    for w in sorted_keys:\n",
    "        if dictionary[w] >= 100 and w != 'Empty':\n",
    "            sorted_dict[w] = dictionary[w]\n",
    "            list1.append(w)\n",
    "\n",
    "    for x in list1:\n",
    "        copy[x] = copy['Details'].astype(str).str.contains(x).astype(int)\n"
   ]
  },
  {
   "cell_type": "code",
   "execution_count": 117,
   "metadata": {},
   "outputs": [],
   "source": [
    "def remove_empty_cols(col_list):   \n",
    "    copy.drop(axis=1, index=None, columns=col_list, inplace=True)\n",
    "\n",
    "col_list=['Details','Composition','Mouw lengte','Materiaal','Bra Type','Chest pad','Panty Type','Item NamePrice','Doorzichtig','Arabian Clothing','Care Instructions','Kleur','Lengte','Neklijn','Patroon type','Seizoen','Stijl','Type mouwen','Stof','Type fit']\n",
    "remove_empty_cols(col_list)"
   ]
  },
  {
   "cell_type": "code",
   "execution_count": 118,
   "metadata": {},
   "outputs": [],
   "source": [
    "# filterd all the damaged items (the items with incorrect number reviews)  \n",
    "sum_cols=(copy['1 Star Reviews'] + copy['2 Stars Reviews'] + copy['3 Stars Reviews']+copy['4 Stars Reviews'] + copy['5 Stars Reviews'])\n",
    "copy=copy[~((sum_cols>copy['Reviews Num']) & ((copy['Reviews Num']==copy['1 Star Reviews']) | (copy['Reviews Num']==copy['2 Stars Reviews']) | (copy['Reviews Num']==copy['3 Stars Reviews']) | (copy['Reviews Num']==copy['4 Stars Reviews']) | (copy['Reviews Num']==copy['5 Stars Reviews'])))]"
   ]
  },
  {
   "cell_type": "code",
   "execution_count": 119,
   "metadata": {},
   "outputs": [],
   "source": [
    "# filterd all items with low reviews(less then 50)\n",
    "copy=copy[copy[\"Reviews Num\"] > 50]"
   ]
  },
  {
   "cell_type": "code",
   "execution_count": 120,
   "metadata": {},
   "outputs": [
    {
     "name": "stdout",
     "output_type": "stream",
     "text": [
      "<class 'pandas.core.frame.DataFrame'>\n",
      "Index: 13847 entries, 0 to 1376\n",
      "Data columns (total 37 columns):\n",
      " #   Column           Non-Null Count  Dtype  \n",
      "---  ------           --------------  -----  \n",
      " 0   SKU              13847 non-null  object \n",
      " 1   Reviews Num      13847 non-null  int64  \n",
      " 2   1 Star Reviews   13847 non-null  int64  \n",
      " 3   1 Star Images    13847 non-null  int64  \n",
      " 4   2 Stars Reviews  13847 non-null  int64  \n",
      " 5   2 Stars Images   13847 non-null  int64  \n",
      " 6   3 Stars Reviews  13847 non-null  int64  \n",
      " 7   3 Stars Images   13847 non-null  int64  \n",
      " 8   4 Stars Reviews  13847 non-null  int64  \n",
      " 9   4 Stars Images   13847 non-null  int64  \n",
      " 10  5 Stars Reviews  13847 non-null  int64  \n",
      " 11  5 Stars Images   13847 non-null  int64  \n",
      " 12  Points Earnning  13847 non-null  int64  \n",
      " 13  Style            12904 non-null  object \n",
      " 14  Color            13846 non-null  object \n",
      " 15  Pattern Type     13641 non-null  object \n",
      " 16  Length           12970 non-null  object \n",
      " 17  Type             8571 non-null   object \n",
      " 18  Neckline         11824 non-null  object \n",
      " 19  Sleeve Length    10242 non-null  object \n",
      " 20  Sleeve Type      8939 non-null   object \n",
      " 21  Placket Type     5958 non-null   object \n",
      " 22  Season           13078 non-null  object \n",
      " 23  Material         13808 non-null  object \n",
      " 24  Fabric           13846 non-null  object \n",
      " 25  Sheer            13777 non-null  object \n",
      " 26  Fit Type         13388 non-null  object \n",
      " 27  Closure Type     1467 non-null   object \n",
      " 28  Waist Line       3200 non-null   object \n",
      " 29  Body             320 non-null    object \n",
      " 30  Bottom Type      510 non-null    object \n",
      " 31  Item Name        13847 non-null  object \n",
      " 32  Price            13847 non-null  float64\n",
      " 33  Placket          594 non-null    object \n",
      " 34  Belt             436 non-null    object \n",
      " 35  Hem Shaped       1314 non-null   object \n",
      " 36  Top Type         511 non-null    object \n",
      "dtypes: float64(1), int64(12), object(24)\n",
      "memory usage: 4.0+ MB\n"
     ]
    }
   ],
   "source": [
    "copy.info()"
   ]
  },
  {
   "cell_type": "code",
   "execution_count": 121,
   "metadata": {},
   "outputs": [
    {
     "data": {
      "image/png": "[encoded data removed]",
      "text/plain": [
       "<Figure size 800x500 with 1 Axes>"
      ]
     },
     "metadata": {},
     "output_type": "display_data"
    },
    {
     "name": "stdout",
     "output_type": "stream",
     "text": [
      "Mean Price: 10.78\n",
      "Median Price: 9.00\n"
     ]
    }
   ],
   "source": [
    "import matplotlib.pyplot as plt\n",
    "import seaborn as sns\n",
    "\n",
    "copy['Price'] = pd.to_numeric(copy['Price'], errors='coerce')\n",
    "\n",
    "plt.figure(figsize=(8,5))\n",
    "sns.histplot(copy['Price'], bins=50, kde=True)\n",
    "plt.title('Distribution of Price')\n",
    "plt.xlabel('Price')\n",
    "plt.ylabel('Frequency')\n",
    "plt.show()\n",
    "\n",
    "mean_price = copy['Price'].mean()\n",
    "median_price = copy['Price'].median()\n",
    "\n",
    "print(f\"Mean Price: {mean_price:.2f}\")\n",
    "print(f\"Median Price: {median_price:.2f}\")\n"
   ]
  },
  {
   "cell_type": "code",
   "execution_count": 122,
   "metadata": {},
   "outputs": [],
   "source": [
    "def smart_fill_missing(df, verbose=True, fill_unknown=True):\n",
    "    filled_columns = []\n",
    "\n",
    "    for col in df.columns:\n",
    "        missing = df[col].isnull().sum()\n",
    "        total = len(df[col])\n",
    "\n",
    "        if missing > 0:\n",
    "            dtype = df[col].dtype\n",
    "\n",
    "          \n",
    "            if dtype == 'object':\n",
    "                non_na_unique = df[col].dropna().nunique()\n",
    "\n",
    "                if non_na_unique > 0:\n",
    "                    mode_value = df[col].mode()[0]\n",
    "                    df[col].fillna(mode_value, inplace=True)\n",
    "                    filled_columns.append((col, 'mode', mode_value))\n",
    "                    if verbose:\n",
    "                        print(f\"✔ Filled {missing} missing in '{col}' (categorical) with mode: '{mode_value}'\")\n",
    "                elif fill_unknown:\n",
    "                    df[col].fillna('Unknown', inplace=True)\n",
    "                    filled_columns.append((col, 'fill: Unknown', 'Unknown'))\n",
    "                    if verbose:\n",
    "                        print(f\"⚠ '{col}' had no valid mode → filled with 'Unknown'\")\n",
    "                else:\n",
    "                    if verbose:\n",
    "                        print(f\"⚠ Skipped '{col}' (categorical) – no valid values\")\n",
    "\n",
    "            \n",
    "            elif dtype in ['float64', 'int64']:\n",
    "                if df[col].dropna().shape[0] > 0:\n",
    "                    median_value = df[col].median()\n",
    "                    df[col].fillna(median_value, inplace=True)\n",
    "                    filled_columns.append((col, 'median', median_value))\n",
    "                    if verbose:\n",
    "                        print(f\"✔ Filled {missing} missing in '{col}' (numeric) with median: {median_value:.2f}\")\n",
    "                else:\n",
    "                    if verbose:\n",
    "                        print(f\"⚠ Skipped '{col}' (numeric) – all values missing\")\n",
    "\n",
    "            else:\n",
    "                if verbose:\n",
    "                    print(f\"⚠ Skipped '{col}' – unsupported dtype: {dtype}\")\n",
    "\n",
    "    return pd.DataFrame(filled_columns, columns=['Column', 'Method', 'Value'])\n"
   ]
  },
  {
   "cell_type": "code",
   "execution_count": 123,
   "metadata": {},
   "outputs": [
    {
     "name": "stdout",
     "output_type": "stream",
     "text": [
      "✔ Filled 943 missing in 'Style' (categorical) with mode: 'Casual'\n",
      "✔ Filled 1 missing in 'Color' (categorical) with mode: 'Black'\n",
      "✔ Filled 206 missing in 'Pattern Type' (categorical) with mode: 'Plain'\n",
      "✔ Filled 877 missing in 'Length' (categorical) with mode: 'Crop'\n",
      "✔ Filled 5276 missing in 'Type' (categorical) with mode: 'Pullovers'\n",
      "✔ Filled 2023 missing in 'Neckline' (categorical) with mode: 'Round Neck'\n",
      "✔ Filled 3605 missing in 'Sleeve Length' (categorical) with mode: 'Long Sleeve'\n",
      "✔ Filled 4908 missing in 'Sleeve Type' (categorical) with mode: 'Regular Sleeve'\n",
      "✔ Filled 7889 missing in 'Placket Type' (categorical) with mode: 'Pullovers'\n",
      "✔ Filled 769 missing in 'Season' (categorical) with mode: 'Spring/Fall'\n",
      "✔ Filled 39 missing in 'Material' (categorical) with mode: 'Polyester'\n",
      "✔ Filled 1 missing in 'Fabric' (categorical) with mode: 'Slight Stretch'\n",
      "✔ Filled 70 missing in 'Sheer' (categorical) with mode: 'No'\n",
      "✔ Filled 459 missing in 'Fit Type' (categorical) with mode: 'Regular Fit'\n",
      "✔ Filled 12380 missing in 'Closure Type' (categorical) with mode: 'Zipper Fly'\n",
      "✔ Filled 10647 missing in 'Waist Line' (categorical) with mode: 'High Waist'\n",
      "✔ Filled 13527 missing in 'Body' (categorical) with mode: 'Yes'\n",
      "✔ Filled 13337 missing in 'Bottom Type' (categorical) with mode: 'Sweatpants'\n",
      "✔ Filled 13253 missing in 'Placket' (categorical) with mode: 'Single Breasted'\n",
      "✔ Filled 13411 missing in 'Belt' (categorical) with mode: 'Yes'\n",
      "✔ Filled 12533 missing in 'Hem Shaped' (categorical) with mode: 'Pencil'\n",
      "✔ Filled 13336 missing in 'Top Type' (categorical) with mode: 'Sweatshirt'\n"
     ]
    }
   ],
   "source": [
    "report_df = smart_fill_missing(copy)\n"
   ]
  },
  {
   "cell_type": "code",
   "execution_count": 124,
   "metadata": {},
   "outputs": [
    {
     "data": {
      "text/plain": [
       "(13847, 37)"
      ]
     },
     "execution_count": 124,
     "metadata": {},
     "output_type": "execute_result"
    }
   ],
   "source": [
    "copy.shape"
   ]
  },
  {
   "cell_type": "code",
   "execution_count": 125,
   "metadata": {},
   "outputs": [],
   "source": [
    "#save results table \n",
    "copy.to_csv( \"combined_with_classification_2.csv\", index=False, encoding='utf-8-sig')"
   ]
  },
  {
   "cell_type": "code",
   "execution_count": null,
   "metadata": {},
   "outputs": [],
   "source": []
  },
  {
   "cell_type": "code",
   "execution_count": null,
   "metadata": {},
   "outputs": [],
   "source": []
  }
 ],
 "metadata": {
  "kernelspec": {
   "display_name": "Python 3 (ipykernel)",
   "language": "python",
   "name": "python3"
  },
  "language_info": {
   "codemirror_mode": {
    "name": "ipython",
    "version": 3
   },
   "file_extension": ".py",
   "mimetype": "text/x-python",
   "name": "python",
   "nbconvert_exporter": "python",
   "pygments_lexer": "ipython3",
   "version": "3.11.7"
  }
 },
 "nbformat": 4,
 "nbformat_minor": 4
}
